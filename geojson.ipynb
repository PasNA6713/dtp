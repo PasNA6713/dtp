{
 "cells": [
  {
   "cell_type": "code",
   "execution_count": 38,
   "metadata": {},
   "outputs": [],
   "source": [
    "import json"
   ]
  },
  {
   "cell_type": "code",
   "execution_count": 39,
   "metadata": {},
   "outputs": [],
   "source": [
    "with open('C:/Users/Lancetnik/Desktop/python/hacks/dtp/sankt-peterburg.geojson', encoding='utf-8') as j:\n",
    "    data = json.load(j)['features']\n",
    "    data = filter(lambda x: x['properties']['point']['lat'], data)"
   ]
  },
  {
   "cell_type": "code",
   "execution_count": 40,
   "metadata": {
    "scrolled": true
   },
   "outputs": [],
   "source": [
    "command = \"insert into dtp_dtp values \"\n",
    "counter = 0\n",
    "for i in data:\n",
    "    dtp = i['properties']\n",
    "    \n",
    "    datetime = dtp['datetime']\n",
    "    \n",
    "    parent_region = dtp['parent_region']\n",
    "    region = dtp['region']\n",
    "    address = dtp['address']\n",
    "    lat = dtp['point']['lat']\n",
    "    long = dtp['point']['long']\n",
    "    \n",
    "    category = dtp['category']\n",
    "    deaths = dtp['dead_count']\n",
    "    injured = dtp['injured_count']\n",
    "    \n",
    "    light = dtp['light']\n",
    "    weather = dtp['weather']\n",
    "    nearby = dtp['nearby']\n",
    "    road_conditions = dtp['road_conditions']\n",
    "    \n",
    "    command += f\"({counter}, '{datetime}', '{parent_region}', '{region}', '{address}', {lat}, {long}, '{category}', {deaths}, {injured}, '{light}', array{weather}::character varying[], array{nearby}::character varying[], array{road_conditions}::character varying[]), \"\n",
    "    counter += 1\n",
    "command = command[:-2]"
   ]
  },
  {
   "cell_type": "code",
   "execution_count": 47,
   "metadata": {},
   "outputs": [],
   "source": [
    "import psycopg2\n",
    "conn = psycopg2.connect(database='dtp', user='postgres', port=1488, host='localhost', password='16031975mech')\n",
    "cur = conn.cursor()\n",
    "cur.execute(command)\n",
    "conn.commit()\n",
    "cur.close()\n",
    "conn.close()"
   ]
  },
  {
   "cell_type": "code",
   "execution_count": null,
   "metadata": {},
   "outputs": [],
   "source": []
  }
 ],
 "metadata": {
  "kernelspec": {
   "display_name": "Python 3",
   "language": "python",
   "name": "python3"
  },
  "language_info": {
   "codemirror_mode": {
    "name": "ipython",
    "version": 3
   },
   "file_extension": ".py",
   "mimetype": "text/x-python",
   "name": "python",
   "nbconvert_exporter": "python",
   "pygments_lexer": "ipython3",
   "version": "3.7.4"
  }
 },
 "nbformat": 4,
 "nbformat_minor": 2
}
